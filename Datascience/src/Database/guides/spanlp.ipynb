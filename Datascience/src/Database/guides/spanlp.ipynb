{
 "cells": [
  {
   "cell_type": "code",
   "execution_count": 1,
   "metadata": {},
   "outputs": [
    {
     "name": "stdout",
     "output_type": "stream",
     "text": [
      "Collecting spanlp\n",
      "  Downloading spanlp-1.1.0-py3-none-any.whl (40 kB)\n",
      "\u001b[2K     \u001b[90m━━━━━━━━━━━━━━━━━━━━━━━━━━━━━━━━━━━━━━━\u001b[0m \u001b[32m40.5/40.5 kB\u001b[0m \u001b[31m638.1 kB/s\u001b[0m eta \u001b[36m0:00:00\u001b[0m \u001b[36m0:00:01\u001b[0m\n",
      "\u001b[?25hInstalling collected packages: spanlp\n",
      "Successfully installed spanlp-1.1.0\n"
     ]
    }
   ],
   "source": [
    "# !pip install spanlp"
   ]
  },
  {
   "cell_type": "markdown",
   "metadata": {},
   "source": [
    "<br>\n",
    "\n",
    "# Basic Use"
   ]
  },
  {
   "cell_type": "code",
   "execution_count": 3,
   "metadata": {},
   "outputs": [
    {
     "name": "stdout",
     "output_type": "stream",
     "text": [
      "True\n"
     ]
    }
   ],
   "source": [
    "from spanlp.palabrota import Palabrota\n",
    "palabrota = Palabrota()\n",
    "print(palabrota.contains_palabrota(\"Hola huevon cómo está?\"))"
   ]
  },
  {
   "cell_type": "code",
   "execution_count": 5,
   "metadata": {},
   "outputs": [
    {
     "name": "stdout",
     "output_type": "stream",
     "text": [
      "Hola !#$# cómo está?\n"
     ]
    }
   ],
   "source": [
    "from spanlp.palabrota import Palabrota\n",
    "palabrota = Palabrota()\n",
    "print(palabrota.censor(\"Hola puta cómo está?\"))"
   ]
  },
  {
   "cell_type": "markdown",
   "metadata": {},
   "source": [
    "<br>\n",
    "\n",
    "# Text Preprocessing\n",
    "\n",
    "It will always be necessary to clean the data before starting work."
   ]
  },
  {
   "cell_type": "code",
   "execution_count": 10,
   "metadata": {},
   "outputs": [
    {
     "name": "stdout",
     "output_type": "stream",
     "text": [
      "La url  pertence a la página web favorita de mi amigo . Hemos utilizado el hastag  para ayudarte, compañero. Contactame a este email: contacto.com.\n"
     ]
    }
   ],
   "source": [
    "from spanlp.domain.strategies import Preprocessing, RemoveUserMentions, RemoveUrls, RemoveHashtags, RemoveEmoticons, RemoveEmailAddress\n",
    "\n",
    "strategies = [RemoveUserMentions(), RemoveUrls(), RemoveHashtags(), RemoveEmoticons(), RemoveEmailAddress()]\n",
    "data = \"La url https://www.deepl.com/translator#es/en/Siempre%20será%20necesario%20limpiar%20los%20datos%20antes%20de%20empezar%20a%20trabajar pertence a la página web favorita de mi amigo @Fernand098. Hemos utilizado el hastag #TodosConUnai para ayudarte, compañero. Contactame a este email: contacto@domain.com.\"\n",
    "preprocessor = Preprocessing(data=data, clean_strategies=strategies)\n",
    "result = preprocessor.clean()\n",
    "print(result)"
   ]
  },
  {
   "cell_type": "code",
   "execution_count": 13,
   "metadata": {},
   "outputs": [
    {
     "data": {
      "text/plain": [
       "['__builtins__',\n",
       " '__cached__',\n",
       " '__doc__',\n",
       " '__file__',\n",
       " '__loader__',\n",
       " '__name__',\n",
       " '__package__',\n",
       " '__path__',\n",
       " '__spec__',\n",
       " 'domain',\n",
       " 'palabrota']"
      ]
     },
     "execution_count": 13,
     "metadata": {},
     "output_type": "execute_result"
    }
   ],
   "source": [
    "import spanlp\n",
    "\n",
    "dir(spanlp)"
   ]
  },
  {
   "cell_type": "code",
   "execution_count": 14,
   "metadata": {},
   "outputs": [
    {
     "data": {
      "text/plain": [
       "['Country',\n",
       " 'DistanceMetricStrategy',\n",
       " 'Palabrota',\n",
       " 'TextDistanceStrategy',\n",
       " '_ROOT',\n",
       " '__builtins__',\n",
       " '__cached__',\n",
       " '__doc__',\n",
       " '__file__',\n",
       " '__loader__',\n",
       " '__name__',\n",
       " '__package__',\n",
       " '__spec__',\n",
       " '_words',\n",
       " 'os',\n",
       " 'random',\n",
       " 're']"
      ]
     },
     "execution_count": 14,
     "metadata": {},
     "output_type": "execute_result"
    }
   ],
   "source": [
    "from spanlp import palabrota\n",
    "\n",
    "dir(palabrota)"
   ]
  },
  {
   "cell_type": "code",
   "execution_count": 15,
   "metadata": {},
   "outputs": [
    {
     "data": {
      "text/plain": [
       "['ARGENTINA',\n",
       " 'BOLIVIA',\n",
       " 'CHILE',\n",
       " 'COLOMBIA',\n",
       " 'COSTA_RICA',\n",
       " 'CUBA',\n",
       " 'ECUADOR',\n",
       " 'EL_SALVADOR',\n",
       " 'ESPANA',\n",
       " 'GUATEMALA',\n",
       " 'GUINEA_ECUATORIAL',\n",
       " 'HONDURAS',\n",
       " 'MEXICO',\n",
       " 'NICARAGUA',\n",
       " 'PANAMA',\n",
       " 'PARAGUAY',\n",
       " 'PERU',\n",
       " 'PUERTO_RICO',\n",
       " 'REPUBLICA_DOMINICANA',\n",
       " 'URUGUAY',\n",
       " 'VENEZUELA',\n",
       " '__class__',\n",
       " '__doc__',\n",
       " '__members__',\n",
       " '__module__']"
      ]
     },
     "execution_count": 15,
     "metadata": {},
     "output_type": "execute_result"
    }
   ],
   "source": [
    "from spanlp.palabrota import Country\n",
    "\n",
    "dir(Country)"
   ]
  },
  {
   "cell_type": "code",
   "execution_count": 16,
   "metadata": {},
   "outputs": [
    {
     "data": {
      "text/plain": [
       "['_Palabrota__get_censor_char',\n",
       " '_Palabrota__get_data',\n",
       " '_Palabrota__get_words',\n",
       " '_Palabrota__load_words',\n",
       " '__class__',\n",
       " '__delattr__',\n",
       " '__dict__',\n",
       " '__dir__',\n",
       " '__doc__',\n",
       " '__eq__',\n",
       " '__format__',\n",
       " '__ge__',\n",
       " '__getattribute__',\n",
       " '__gt__',\n",
       " '__hash__',\n",
       " '__init__',\n",
       " '__init_subclass__',\n",
       " '__le__',\n",
       " '__lt__',\n",
       " '__module__',\n",
       " '__ne__',\n",
       " '__new__',\n",
       " '__reduce__',\n",
       " '__reduce_ex__',\n",
       " '__repr__',\n",
       " '__setattr__',\n",
       " '__sizeof__',\n",
       " '__str__',\n",
       " '__subclasshook__',\n",
       " '__weakref__',\n",
       " '_censor_chars',\n",
       " '_censor_pool',\n",
       " '_countries',\n",
       " '_dataset_extension',\n",
       " '_distance_metric',\n",
       " '_exclude',\n",
       " '_include',\n",
       " '_words',\n",
       " 'censor',\n",
       " 'contains_palabrota',\n",
       " 'set_censor_characters',\n",
       " 'supported_countries']"
      ]
     },
     "execution_count": 16,
     "metadata": {},
     "output_type": "execute_result"
    }
   ],
   "source": [
    "from spanlp.palabrota import Palabrota\n",
    "\n",
    "dir(Palabrota)"
   ]
  },
  {
   "cell_type": "code",
   "execution_count": 31,
   "metadata": {},
   "outputs": [
    {
     "data": {
      "text/plain": [
       "['__builtins__',\n",
       " '__cached__',\n",
       " '__doc__',\n",
       " '__file__',\n",
       " '__loader__',\n",
       " '__name__',\n",
       " '__package__',\n",
       " '__path__',\n",
       " '__spec__',\n",
       " 'constant',\n",
       " 'countries',\n",
       " 'strategies']"
      ]
     },
     "execution_count": 31,
     "metadata": {},
     "output_type": "execute_result"
    }
   ],
   "source": [
    "from spanlp import domain\n",
    "\n",
    "dir(domain)"
   ]
  },
  {
   "cell_type": "code",
   "execution_count": 32,
   "metadata": {},
   "outputs": [
    {
     "data": {
      "text/plain": [
       "['ABBREVIATIONS',\n",
       " 'ADJECTIVES',\n",
       " 'ADVERBS',\n",
       " 'ARTICLES',\n",
       " 'CONJUNCTIONS',\n",
       " 'EMOTICONS',\n",
       " 'PREPROSITIONS',\n",
       " 'PRONOUNS',\n",
       " 'SPANISH_STOP_WORDS',\n",
       " '__builtins__',\n",
       " '__cached__',\n",
       " '__doc__',\n",
       " '__file__',\n",
       " '__loader__',\n",
       " '__name__',\n",
       " '__package__',\n",
       " '__spec__']"
      ]
     },
     "execution_count": 32,
     "metadata": {},
     "output_type": "execute_result"
    }
   ],
   "source": [
    "from spanlp.domain import constant\n",
    "\n",
    "dir(constant)"
   ]
  },
  {
   "cell_type": "code",
   "execution_count": 34,
   "metadata": {},
   "outputs": [
    {
     "data": {
      "text/plain": [
       "['hola', 'chao', 'a', 'al', 'algo']"
      ]
     },
     "execution_count": 34,
     "metadata": {},
     "output_type": "execute_result"
    }
   ],
   "source": [
    "constant.SPANISH_STOP_WORDS[:5]"
   ]
  },
  {
   "cell_type": "code",
   "execution_count": 35,
   "metadata": {},
   "outputs": [
    {
     "data": {
      "text/plain": [
       "['y',\n",
       " 'e',\n",
       " 'ni',\n",
       " 'que',\n",
       " 'pero',\n",
       " 'mas',\n",
       " 'aunque',\n",
       " 'sino',\n",
       " 'siquiera',\n",
       " 'o',\n",
       " 'u',\n",
       " 'ora',\n",
       " 'sea',\n",
       " 'bien',\n",
       " 'ya',\n",
       " 'cerca',\n",
       " 'lejos',\n",
       " 'este',\n",
       " 'aquel']"
      ]
     },
     "execution_count": 35,
     "metadata": {},
     "output_type": "execute_result"
    }
   ],
   "source": [
    "constant.CONJUNCTIONS"
   ]
  },
  {
   "cell_type": "code",
   "execution_count": 36,
   "metadata": {},
   "outputs": [
    {
     "data": {
      "text/plain": [
       "['Country',\n",
       " '__builtins__',\n",
       " '__cached__',\n",
       " '__doc__',\n",
       " '__file__',\n",
       " '__loader__',\n",
       " '__name__',\n",
       " '__package__',\n",
       " '__spec__',\n",
       " 'enum']"
      ]
     },
     "execution_count": 36,
     "metadata": {},
     "output_type": "execute_result"
    }
   ],
   "source": [
    "from spanlp.domain import countries\n",
    "\n",
    "dir(countries)"
   ]
  },
  {
   "cell_type": "code",
   "execution_count": 43,
   "metadata": {},
   "outputs": [
    {
     "data": {
      "text/plain": [
       "[<Country.ARGENTINA: 'ARG'>,\n",
       " <Country.BOLIVIA: 'BOL'>,\n",
       " <Country.CHILE: 'CHL'>,\n",
       " <Country.COLOMBIA: 'COL'>,\n",
       " <Country.COSTA_RICA: 'CRI'>,\n",
       " <Country.CUBA: 'CUB'>,\n",
       " <Country.ECUADOR: 'ECU'>,\n",
       " <Country.EL_SALVADOR: 'SLV'>,\n",
       " <Country.ESPANA: 'ESP'>,\n",
       " <Country.GUATEMALA: 'GTM'>,\n",
       " <Country.GUINEA_ECUATORIAL: 'GNQ'>,\n",
       " <Country.HONDURAS: 'HND'>,\n",
       " <Country.MEXICO: 'MEX'>,\n",
       " <Country.NICARAGUA: 'NIC'>,\n",
       " <Country.PANAMA: 'PAN'>,\n",
       " <Country.PARAGUAY: 'PRY'>,\n",
       " <Country.PERU: 'PER'>,\n",
       " <Country.PUERTO_RICO: 'PRI'>,\n",
       " <Country.REPUBLICA_DOMINICANA: 'DOM'>,\n",
       " <Country.URUGUAY: 'URY'>,\n",
       " <Country.VENEZUELA: 'VEN'>]"
      ]
     },
     "execution_count": 43,
     "metadata": {},
     "output_type": "execute_result"
    }
   ],
   "source": [
    "list(countries.Country)"
   ]
  },
  {
   "cell_type": "code",
   "execution_count": 46,
   "metadata": {},
   "outputs": [
    {
     "data": {
      "text/plain": [
       "['ABBREVIATIONS',\n",
       " 'ADJECTIVES',\n",
       " 'ADVERBS',\n",
       " 'ARTICLES',\n",
       " 'CONJUNCTIONS',\n",
       " 'CleanDataStrategy',\n",
       " 'CosineSimilarity',\n",
       " 'DistanceMetricStrategy',\n",
       " 'EMOTICONS',\n",
       " 'ExpandAbbreviations',\n",
       " 'HammingDistance',\n",
       " 'JaccardIndex',\n",
       " 'LevenshteinComputingWay',\n",
       " 'LevenshteinDistance',\n",
       " 'NumbersToConsonantsInLowerCase',\n",
       " 'NumbersToConsonantsInUpperCase',\n",
       " 'NumbersToVowelsInLowerCase',\n",
       " 'NumbersToVowelsInUpperCase',\n",
       " 'PREPROSITIONS',\n",
       " 'PRONOUNS',\n",
       " 'Preprocessing',\n",
       " 'RemoveAbbreviations',\n",
       " 'RemoveAccents',\n",
       " 'RemoveAdjectives',\n",
       " 'RemoveAdverbs',\n",
       " 'RemoveArticles',\n",
       " 'RemoveBackTicks',\n",
       " 'RemoveConjunctions',\n",
       " 'RemoveEmailAddress',\n",
       " 'RemoveEmoticons',\n",
       " 'RemoveExtraSpaces',\n",
       " 'RemoveHashtags',\n",
       " 'RemoveHtmlTags',\n",
       " 'RemoveNumbers',\n",
       " 'RemovePrepositions',\n",
       " 'RemovePronouns',\n",
       " 'RemovePunctuation',\n",
       " 'RemoveStopWords',\n",
       " 'RemoveTicks',\n",
       " 'RemoveUnicodeCharacters',\n",
       " 'RemoveUrls',\n",
       " 'RemoveUserMentions',\n",
       " 'SPANISH_STOP_WORDS',\n",
       " 'TextDistanceStrategy',\n",
       " 'TextToLower',\n",
       " 'TextToUpper',\n",
       " '__builtins__',\n",
       " '__cached__',\n",
       " '__doc__',\n",
       " '__file__',\n",
       " '__loader__',\n",
       " '__name__',\n",
       " '__package__',\n",
       " '__spec__',\n",
       " 'abstractmethod',\n",
       " 'enum',\n",
       " 're',\n",
       " 'string']"
      ]
     },
     "execution_count": 46,
     "metadata": {},
     "output_type": "execute_result"
    }
   ],
   "source": [
    "from spanlp.domain import strategies\n",
    "\n",
    "dir(strategies)"
   ]
  },
  {
   "cell_type": "code",
   "execution_count": 61,
   "metadata": {},
   "outputs": [
    {
     "data": {
      "text/plain": [
       "['__class__',\n",
       " '__delattr__',\n",
       " '__dict__',\n",
       " '__dir__',\n",
       " '__doc__',\n",
       " '__eq__',\n",
       " '__format__',\n",
       " '__ge__',\n",
       " '__getattribute__',\n",
       " '__gt__',\n",
       " '__hash__',\n",
       " '__init__',\n",
       " '__init_subclass__',\n",
       " '__le__',\n",
       " '__lt__',\n",
       " '__module__',\n",
       " '__ne__',\n",
       " '__new__',\n",
       " '__reduce__',\n",
       " '__reduce_ex__',\n",
       " '__repr__',\n",
       " '__setattr__',\n",
       " '__sizeof__',\n",
       " '__str__',\n",
       " '__subclasshook__',\n",
       " '__weakref__',\n",
       " 'clean']"
      ]
     },
     "execution_count": 61,
     "metadata": {},
     "output_type": "execute_result"
    }
   ],
   "source": [
    "from spanlp.domain.strategies import Preprocessing\n",
    "\n",
    "dir(Preprocessing)"
   ]
  },
  {
   "cell_type": "code",
   "execution_count": null,
   "metadata": {},
   "outputs": [],
   "source": []
  }
 ],
 "metadata": {
  "kernelspec": {
   "display_name": "thebridge_desafio",
   "language": "python",
   "name": "python3"
  },
  "language_info": {
   "codemirror_mode": {
    "name": "ipython",
    "version": 3
   },
   "file_extension": ".py",
   "mimetype": "text/x-python",
   "name": "python",
   "nbconvert_exporter": "python",
   "pygments_lexer": "ipython3",
   "version": "3.9.18"
  },
  "orig_nbformat": 4
 },
 "nbformat": 4,
 "nbformat_minor": 2
}
