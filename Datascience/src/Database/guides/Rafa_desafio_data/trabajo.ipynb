{
 "cells": [
  {
   "cell_type": "code",
   "execution_count": 15,
   "metadata": {},
   "outputs": [],
   "source": [
    "from flask import Flask, request, jsonify\n",
    "import pandas as pd\n",
    "from datetime import datetime as dt\n",
    "from decouple import config"
   ]
  },
  {
   "cell_type": "code",
   "execution_count": 16,
   "metadata": {},
   "outputs": [],
   "source": [
    "import psycopg2\n",
    "import psycopg2.extras"
   ]
  },
  {
   "cell_type": "code",
   "execution_count": 17,
   "metadata": {},
   "outputs": [],
   "source": [
    "name = config('RENDER_DB_USER')\n",
    "pswrd = config('RENDER_DB_PASS')\n",
    "hostname = config('RENDER_DB_HOST')\n",
    "portid = config('RENDER_DB_PORT')\n",
    "db = config('RENDER_DB_DB')"
   ]
  },
  {
   "cell_type": "code",
   "execution_count": 18,
   "metadata": {},
   "outputs": [],
   "source": [
    "conn = None"
   ]
  },
  {
   "cell_type": "code",
   "execution_count": 19,
   "metadata": {},
   "outputs": [
    {
     "name": "stdout",
     "output_type": "stream",
     "text": [
      "[['Comunicación en entornos digitales']]\n"
     ]
    }
   ],
   "source": [
    "try:\n",
    "    with psycopg2.connect(\n",
    "        host = hostname, \n",
    "        dbname = db,\n",
    "        user = name,\n",
    "        password = pswrd,\n",
    "        port = portid) as conn:\n",
    "    \n",
    "        with conn.cursor(cursor_factory = psycopg2.extras.DictCursor) as cur:\n",
    "            q_title = \"SELECT title FROM Events WHERE id = 4;\"\n",
    "            cur.execute(q_title)\n",
    "            print(cur.fetchall())\n",
    "\n",
    "except Exception as error:\n",
    "    print(error)\n",
    "\n",
    "finally:\n",
    "    if conn is not None:\n",
    "        conn.close()"
   ]
  }
 ],
 "metadata": {
  "kernelspec": {
   "display_name": "mysql_env",
   "language": "python",
   "name": "python3"
  },
  "language_info": {
   "codemirror_mode": {
    "name": "ipython",
    "version": 3
   },
   "file_extension": ".py",
   "mimetype": "text/x-python",
   "name": "python",
   "nbconvert_exporter": "python",
   "pygments_lexer": "ipython3",
   "version": "3.9.18"
  },
  "orig_nbformat": 4
 },
 "nbformat": 4,
 "nbformat_minor": 2
}
