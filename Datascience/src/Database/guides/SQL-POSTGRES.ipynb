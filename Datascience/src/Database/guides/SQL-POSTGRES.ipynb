{
 "cells": [
  {
   "cell_type": "markdown",
   "metadata": {},
   "source": [
    "# Eliminar una TABLA de la Base de Datos"
   ]
  },
  {
   "cell_type": "code",
   "execution_count": null,
   "metadata": {},
   "outputs": [],
   "source": [
    "# from sqlalchemy import create_engine, MetaData, Table\n",
    "\n",
    "\n",
    "# # 2. Crear una instancia de MetaData\n",
    "# metadata = MetaData()\n",
    "\n",
    "# # 3. Cargar la información sobre las tablas existentes\n",
    "# metadata.reflect(bind=engine)\n",
    "\n",
    "# # 4. Acceder a la tabla que deseas eliminar y eliminarla\n",
    "# tabla_a_eliminar = Table('Facilities', metadata, autoload=True, autoload_with=engine)\n",
    "# tabla_a_eliminar.drop(engine)\n"
   ]
  }
 ],
 "metadata": {
  "language_info": {
   "name": "python"
  },
  "orig_nbformat": 4
 },
 "nbformat": 4,
 "nbformat_minor": 2
}
