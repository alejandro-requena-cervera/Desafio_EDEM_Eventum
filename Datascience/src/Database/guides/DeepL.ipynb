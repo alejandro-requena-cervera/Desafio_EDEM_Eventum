{
 "cells": [
  {
   "cell_type": "code",
   "execution_count": 2,
   "metadata": {},
   "outputs": [
    {
     "name": "stdout",
     "output_type": "stream",
     "text": [
      "Collecting deepl\n",
      "  Obtaining dependency information for deepl from https://files.pythonhosted.org/packages/ef/73/42c33b305faed641a9ac81de624994de41cad0d950fd9b21f0ec5eaed59f/deepl-1.15.0-py3-none-any.whl.metadata\n",
      "  Downloading deepl-1.15.0-py3-none-any.whl.metadata (25 kB)\n",
      "Requirement already satisfied: requests<3,>=2 in /Users/macbookdealejandro/anaconda3/envs/thebridge_desafio/lib/python3.9/site-packages (from deepl) (2.31.0)\n",
      "Requirement already satisfied: charset-normalizer<4,>=2 in /Users/macbookdealejandro/anaconda3/envs/thebridge_desafio/lib/python3.9/site-packages (from requests<3,>=2->deepl) (3.2.0)\n",
      "Requirement already satisfied: idna<4,>=2.5 in /Users/macbookdealejandro/anaconda3/envs/thebridge_desafio/lib/python3.9/site-packages (from requests<3,>=2->deepl) (3.4)\n",
      "Requirement already satisfied: urllib3<3,>=1.21.1 in /Users/macbookdealejandro/anaconda3/envs/thebridge_desafio/lib/python3.9/site-packages (from requests<3,>=2->deepl) (2.0.5)\n",
      "Requirement already satisfied: certifi>=2017.4.17 in /Users/macbookdealejandro/anaconda3/envs/thebridge_desafio/lib/python3.9/site-packages (from requests<3,>=2->deepl) (2023.7.22)\n",
      "Downloading deepl-1.15.0-py3-none-any.whl (32 kB)\n",
      "Installing collected packages: deepl\n",
      "Successfully installed deepl-1.15.0\n"
     ]
    }
   ],
   "source": [
    "# !pip install --upgrade deepl\n",
    "\n",
    "# https://github.com/DeepLcom/deepl-python      # How to use"
   ]
  },
  {
   "cell_type": "code",
   "execution_count": 2,
   "metadata": {},
   "outputs": [],
   "source": [
    "import deepl\n",
    "\n",
    "auth_key = \"cc5220b1-f22d-8f47-aa4d-28ee63b26314:fx\"  # Replace with your key\n",
    "translator = deepl.Translator(auth_key)"
   ]
  },
  {
   "cell_type": "code",
   "execution_count": 3,
   "metadata": {},
   "outputs": [
    {
     "name": "stdout",
     "output_type": "stream",
     "text": [
      "Bonjour à tous !\n",
      "EN\n"
     ]
    }
   ],
   "source": [
    "result = translator.translate_text(\"Hello, world!\", target_lang=\"FR\", formality=\"more\")\n",
    "print(result.text)  # \"Bonjour, le monde !\"\n",
    "print(result.detected_source_lang)  # \"EN\""
   ]
  },
  {
   "cell_type": "code",
   "execution_count": null,
   "metadata": {},
   "outputs": [],
   "source": []
  },
  {
   "cell_type": "code",
   "execution_count": 48,
   "metadata": {},
   "outputs": [
    {
     "data": {
      "text/plain": [
       "{'Bulgarian': 'BG',\n",
       " 'Czech': 'CS',\n",
       " 'Danish': 'DA',\n",
       " 'German': 'DE',\n",
       " 'Greek': 'EL',\n",
       " 'English (British)': 'EN-GB',\n",
       " 'English (American)': 'EN-US',\n",
       " 'Spanish': 'ES',\n",
       " 'Estonian': 'ET',\n",
       " 'Finnish': 'FI',\n",
       " 'French': 'FR',\n",
       " 'Hungarian': 'HU',\n",
       " 'Indonesian': 'ID',\n",
       " 'Italian': 'IT',\n",
       " 'Japanese': 'JA',\n",
       " 'Korean': 'KO',\n",
       " 'Lithuanian': 'LT',\n",
       " 'Latvian': 'LV',\n",
       " 'Norwegian': 'NB',\n",
       " 'Dutch': 'NL',\n",
       " 'Polish': 'PL',\n",
       " 'Portuguese (Brazilian)': 'PT-BR',\n",
       " 'Portuguese (European)': 'PT-PT',\n",
       " 'Romanian': 'RO',\n",
       " 'Russian': 'RU',\n",
       " 'Slovak': 'SK',\n",
       " 'Slovenian': 'SL',\n",
       " 'Swedish': 'SV',\n",
       " 'Turkish': 'TR',\n",
       " 'Ukrainian': 'UK',\n",
       " 'Chinese (simplified)': 'ZH'}"
      ]
     },
     "execution_count": 48,
     "metadata": {},
     "output_type": "execute_result"
    }
   ],
   "source": [
    "import requests\n",
    "\n",
    "# Reemplaza [yourAuthKey] con tu clave de autenticación de DeepL\n",
    "auth_key = \"cc5220b1-f22d-8f47-aa4d-28ee63b26314:fx\"\n",
    "\n",
    "# URL de la API de DeepL para obtener los idiomas disponibles\n",
    "url = \"https://api-free.deepl.com/v2/languages?type=target\"\n",
    "\n",
    "# Encabezados de la solicitud\n",
    "headers = {\n",
    "    \"Authorization\": f\"DeepL-Auth-Key {auth_key}\",\n",
    "    \"User-Agent\": \"YourApp/1.2.3\"\n",
    "}\n",
    "\n",
    "# Realizar la solicitud GET\n",
    "response = requests.get(url, headers=headers)\n",
    "\n",
    "dict_languages = {}\n",
    "\n",
    "for item in response.json():\n",
    "    dict_languages[item['name']] = item['language']\n",
    "\n",
    "dict_languages"
   ]
  },
  {
   "cell_type": "code",
   "execution_count": null,
   "metadata": {},
   "outputs": [],
   "source": [
    "\"\"\"\n",
    "GET /v2/languages?type=target HTTP/2\n",
    "Host: api-free.deepl.com\n",
    "Authorization: DeepL-Auth-Key [yourAuthKey] \n",
    "User-Agent: YourApp/1.2.3\"\"\""
   ]
  },
  {
   "cell_type": "markdown",
   "metadata": {},
   "source": [
    "<br>\n",
    "\n",
    "# MODELO DE HUGGINGFACE"
   ]
  },
  {
   "cell_type": "code",
   "execution_count": 20,
   "metadata": {},
   "outputs": [
    {
     "data": {
      "text/plain": [
       "[{'translation_text': 'The event has been fantastic, and I would like to come back again.'}]"
      ]
     },
     "execution_count": 20,
     "metadata": {},
     "output_type": "execute_result"
    }
   ],
   "source": [
    "import json\n",
    "import requests\n",
    "\n",
    "headers = {\"Authorization\": f\"Bearer {API_TOKEN}\"}\n",
    "# API_URL = \"https://api-inference.huggingface.co/models/bert-base-uncased\"\n",
    "API_URL = \"https://api-inference.huggingface.co/models/salesken/translation-spanish-and-portuguese-to-english\"\n",
    "\n",
    "def query(payload):\n",
    "    data = json.dumps(payload)\n",
    "    response = requests.request(\"POST\", API_URL, headers=headers, data=data)\n",
    "    return json.loads(response.content.decode(\"utf-8\"))\n",
    "\n",
    "data = query({\"inputs\": \"El evento ha sido fantástico. Me gustaría volver de nuevo.\"})\n",
    "data"
   ]
  },
  {
   "cell_type": "code",
   "execution_count": 44,
   "metadata": {},
   "outputs": [
    {
     "name": "stdout",
     "output_type": "stream",
     "text": [
      "[{'label': 'NEGATIVE', 'score': 0.9897761344909668}, {'label': 'POSITIVE', 'score': 0.9396912455558777}, {'label': 'NEGATIVE', 'score': 0.06030872091650963}, {'label': 'POSITIVE', 'score': 0.010223827324807644}]\n"
     ]
    }
   ],
   "source": [
    "import pandas as pd\n",
    "\n",
    "data = [\n",
    "    [\n",
    "        {\"label\": \"POSITIVE\", \"score\": 0.9396912455558777},\n",
    "        {\"label\": \"NEGATIVE\", \"score\": 0.06030872091650963},\n",
    "    ],\n",
    "    [\n",
    "        {\"label\": \"NEGATIVE\", \"score\": 0.9897761344909668},\n",
    "        {\"label\": \"POSITIVE\", \"score\": 0.010223827324807644},\n",
    "    ],\n",
    "]\n",
    "\n",
    "\n",
    "def ok():\n",
    "    records = []\n",
    "    for sentiment in data:\n",
    "        for labels in sentiment:\n",
    "            records.append(labels)\n",
    "    df_prov = pd.DataFrame(records)\n",
    "    df_prov = df_prov.sort_values('score', ascending=False)\n",
    "    return df_prov.to_dict('records')\n",
    "\n",
    "\n",
    "result = ok()\n",
    "print(result)\n"
   ]
  },
  {
   "cell_type": "code",
   "execution_count": 67,
   "metadata": {},
   "outputs": [
    {
     "data": {
      "text/plain": [
       "[[{'label': 'POSITIVE', 'score': 0.9396912455558777},\n",
       "  {'label': 'NEGATIVE', 'score': 0.06030872091650963}],\n",
       " [{'label': 'NEGATIVE', 'score': 0.9897761344909668},\n",
       "  {'label': 'POSITIVE', 'score': 0.010223827324807644}]]"
      ]
     },
     "execution_count": 67,
     "metadata": {},
     "output_type": "execute_result"
    }
   ],
   "source": [
    "data"
   ]
  },
  {
   "cell_type": "code",
   "execution_count": 103,
   "metadata": {},
   "outputs": [
    {
     "data": {
      "text/html": [
       "<div>\n",
       "<style scoped>\n",
       "    .dataframe tbody tr th:only-of-type {\n",
       "        vertical-align: middle;\n",
       "    }\n",
       "\n",
       "    .dataframe tbody tr th {\n",
       "        vertical-align: top;\n",
       "    }\n",
       "\n",
       "    .dataframe thead th {\n",
       "        text-align: right;\n",
       "    }\n",
       "</style>\n",
       "<table border=\"1\" class=\"dataframe\">\n",
       "  <thead>\n",
       "    <tr style=\"text-align: right;\">\n",
       "      <th></th>\n",
       "      <th>label</th>\n",
       "      <th>score</th>\n",
       "    </tr>\n",
       "  </thead>\n",
       "  <tbody>\n",
       "    <tr>\n",
       "      <th>0</th>\n",
       "      <td>POSITIVE</td>\n",
       "      <td>0.939691</td>\n",
       "    </tr>\n",
       "    <tr>\n",
       "      <th>0</th>\n",
       "      <td>NEGATIVE</td>\n",
       "      <td>0.989776</td>\n",
       "    </tr>\n",
       "  </tbody>\n",
       "</table>\n",
       "</div>"
      ],
      "text/plain": [
       "      label     score\n",
       "0  POSITIVE  0.939691\n",
       "0  NEGATIVE  0.989776"
      ]
     },
     "execution_count": 103,
     "metadata": {},
     "output_type": "execute_result"
    }
   ],
   "source": [
    "df = pd.DataFrame()\n",
    "for analysis in data:\n",
    "    df_prov = pd.DataFrame(analysis)\n",
    "    df_prov = df_prov.iloc[0, :].to_frame().T\n",
    "    df = pd.concat((df, df_prov))\n",
    "\n",
    "df"
   ]
  },
  {
   "cell_type": "code",
   "execution_count": null,
   "metadata": {},
   "outputs": [],
   "source": []
  },
  {
   "cell_type": "code",
   "execution_count": null,
   "metadata": {},
   "outputs": [],
   "source": []
  }
 ],
 "metadata": {
  "kernelspec": {
   "display_name": "thebridge_desafio",
   "language": "python",
   "name": "python3"
  },
  "language_info": {
   "codemirror_mode": {
    "name": "ipython",
    "version": 3
   },
   "file_extension": ".py",
   "mimetype": "text/x-python",
   "name": "python",
   "nbconvert_exporter": "python",
   "pygments_lexer": "ipython3",
   "version": "3.9.18"
  },
  "orig_nbformat": 4
 },
 "nbformat": 4,
 "nbformat_minor": 2
}
